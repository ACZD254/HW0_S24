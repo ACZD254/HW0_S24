{
 "cells": [
  {
   "cell_type": "markdown",
   "id": "dcc1b7c5",
   "metadata": {},
   "source": [
    "## Julia Primer \n",
    "\n",
    "This is a crash course on the Julia that you will need to know to complete the homeworks in this class. We are going to keep everything as simple as possible in the homeworks, oftentimes at the expense of speed. Because of this, we are going to be writing Julia in a way that is very similar to matlab. \n",
    "\n",
    "The great Brian Jackson (former TA of this course) made a fantastic [Julia Intro](https://github.com/Optimal-Control-16-745/JuliaIntro) that goes over everything one should know on their way to becoming a solid Julia programmer. This primer is simply a supplementary guide, and is not meant to replace the existing [Julia Intro](https://github.com/Optimal-Control-16-745/JuliaIntro). "
   ]
  },
  {
   "cell_type": "code",
   "execution_count": null,
   "id": "5343f25a",
   "metadata": {},
   "outputs": [],
   "source": [
    "# some basic path stuff\n",
    "\n",
    "dir =  @__DIR__ # this is the path to the directory\n",
    "dir_of_dir = dirname(@__DIR__) # this is the path to the directory of the directory\n",
    "madeup_path = joinpath(dir, \"made_up_file.jl\")\n",
    "\n",
    "@show dir \n",
    "@show dir_of_dir\n",
    "@show madeup_path"
   ]
  },
  {
   "cell_type": "code",
   "execution_count": null,
   "id": "58fd7423",
   "metadata": {},
   "outputs": [],
   "source": [
    "# show current environment (list out the packages in the environment with status)\n",
    "import Pkg \n",
    "Pkg.status()"
   ]
  },
  {
   "cell_type": "code",
   "execution_count": null,
   "id": "0db0aca5",
   "metadata": {},
   "outputs": [],
   "source": [
    "# first we are going to activate a specific environment \n",
    "Pkg.activate(@__DIR__) # activate the env in the directory \n",
    "\n",
    "# now we can add a package if we want \n",
    "Pkg.add(\"BenchmarkTools\")"
   ]
  },
  {
   "cell_type": "code",
   "execution_count": null,
   "id": "0b9543e0",
   "metadata": {},
   "outputs": [],
   "source": [
    "# we can also instantiate the environment \n",
    "Pkg.instantiate()      # download the packages listed in this environment "
   ]
  },
  {
   "cell_type": "code",
   "execution_count": null,
   "id": "3ed3ee98",
   "metadata": {},
   "outputs": [],
   "source": [
    "# standard library stuff (not env specific)\n",
    "# import LinearAlgebra # LinearAlgebra.norm()\n",
    "# import LinearAlegbra as la # la.norm()\n",
    "using LinearAlgebra # norm()\n",
    "using Test"
   ]
  },
  {
   "cell_type": "markdown",
   "id": "a345872c",
   "metadata": {},
   "source": [
    "## 1. General syntax and Linear Algebra"
   ]
  },
  {
   "cell_type": "code",
   "execution_count": null,
   "id": "e8e9c6a6",
   "metadata": {},
   "outputs": [],
   "source": [
    "a = 2 \n",
    "b = 3.4\n",
    "c = rand()  # uniform [0, 1]\n",
    "d = randn() # gaussian [0, 1]\n",
    "\n",
    "@show a \n",
    "@show a * b \n",
    "@show a ^ 2 \n",
    "@show a + b; # jupyter always outputs the last thing in a cell, we can supress with ; "
   ]
  },
  {
   "cell_type": "code",
   "execution_count": null,
   "id": "44e0970c",
   "metadata": {},
   "outputs": [],
   "source": [
    "# julia people love using latex characters \n",
    "Ω = 4.5 # I did this with \"\\Omega<tab>\"\n",
    "\n",
    "# we can also add dots \n",
    "ẋ = 2.4; # I did this with \"x\\dot<tab>\""
   ]
  },
  {
   "cell_type": "code",
   "execution_count": null,
   "id": "434aa304",
   "metadata": {},
   "outputs": [],
   "source": [
    "# arrays \n",
    "vec = [1,2,3,4.0]  # vector, colons or commas work\n",
    "mat = [1 2; 3 4.0] # matrix, must use colons between rows "
   ]
  },
  {
   "cell_type": "code",
   "execution_count": null,
   "id": "7b2729fc",
   "metadata": {},
   "outputs": [],
   "source": [
    "vec[1:2] # indexing starts at 1 "
   ]
  },
  {
   "cell_type": "code",
   "execution_count": null,
   "id": "958446c7",
   "metadata": {},
   "outputs": [],
   "source": [
    "mat[:, 2] # all rows, 2nd column "
   ]
  },
  {
   "cell_type": "code",
   "execution_count": null,
   "id": "9785d891",
   "metadata": {},
   "outputs": [],
   "source": [
    "# whenever I pull something 1 dimensional from a matrix, it will treat it as a vector\n",
    "mat[2,1:2] # row 2, columns 1:2 (automatically converts to vector)"
   ]
  },
  {
   "cell_type": "code",
   "execution_count": null,
   "id": "b9191829",
   "metadata": {},
   "outputs": [],
   "source": [
    "reshape(mat[2,1:2], 1, 2) # if we want a matrix we can get it like this"
   ]
  },
  {
   "cell_type": "code",
   "execution_count": null,
   "id": "b8920a94",
   "metadata": {},
   "outputs": [],
   "source": [
    "# I can edit these elements \n",
    "vec[3] = 100;\n",
    "@show vec \n",
    "\n",
    "mat[1,1] = 20\n",
    "@show mat"
   ]
  },
  {
   "cell_type": "code",
   "execution_count": null,
   "id": "81fd7ec6",
   "metadata": {},
   "outputs": [],
   "source": [
    "# matrix multiplication\n",
    "A = randn(2,2)\n",
    "B = randn(2,2)\n",
    "C = A * B \n",
    "D = A' * A # ' is transpose "
   ]
  },
  {
   "cell_type": "code",
   "execution_count": null,
   "id": "ded64ab1",
   "metadata": {},
   "outputs": [],
   "source": [
    "# matrix vector multiplication \n",
    "A = randn(2,2)\n",
    "b = randn(2)\n",
    "c = A * b \n",
    "d = b' * A "
   ]
  },
  {
   "cell_type": "code",
   "execution_count": null,
   "id": "1ca49373",
   "metadata": {},
   "outputs": [],
   "source": [
    "size(A)"
   ]
  },
  {
   "cell_type": "code",
   "execution_count": null,
   "id": "7e97d529",
   "metadata": {},
   "outputs": [],
   "source": [
    "size(b)"
   ]
  },
  {
   "cell_type": "code",
   "execution_count": null,
   "id": "146b66e6",
   "metadata": {},
   "outputs": [],
   "source": [
    "# identity matrix is just I \n",
    "@show identity_2x2 = I(2) # we can specify a size \n",
    "\n",
    "@show zeros(2,2) + I # or we can just add it to something with I "
   ]
  },
  {
   "cell_type": "markdown",
   "id": "84e19c07",
   "metadata": {},
   "source": [
    "### 1.1 Solving Linear Systems"
   ]
  },
  {
   "cell_type": "code",
   "execution_count": null,
   "id": "8760aa05",
   "metadata": {},
   "outputs": [],
   "source": [
    "# now let's solve some linear systems \n",
    "# A * x = b \n",
    "\n",
    "x = inv(A)*b # you SHOULD NOT solve linear systems like this \n",
    "\n",
    "x = A\\b # you SHOULD solve them like this \n",
    "\n",
    "@test norm(A*x - b) < 1e-10 "
   ]
  },
  {
   "cell_type": "code",
   "execution_count": null,
   "id": "f9bdb0ad",
   "metadata": {},
   "outputs": [],
   "source": [
    "# matrix factorizations (advanced usage) \n",
    "\n",
    "# if I know something about the structure of my linear system, I can \n",
    "# choose how to factorize is \n",
    "\n",
    "A = randn(3,3); A = A'*A + I; # create a random positive definite matrix \n",
    "# this just means it will work for all factorizations\n",
    "\n",
    "# cholesky is the fastest factorization, but only works on positive definite matrices\n",
    "chol_factor = cholesky(A) # factorize into L*L'=A, where L is lower triangular\n",
    "L = chol_factor.L # this is the lower triangular cholesky factor \n",
    "@test norm(L*L' - A) < 1e-10\n",
    "\n",
    "# some other popular options that work for all full rank square matrices: \n",
    "qr_factor = qr(A)\n",
    "Q = qr_factor.Q \n",
    "R = qr_factor.R \n",
    "@test norm(Q*R - A) < 1e-10\n",
    "\n",
    "# LU decomposition \n",
    "lu_factor = lu(A)\n",
    "L = lu_factor.L \n",
    "U = lu_factor.U \n",
    "@test norm(L*U - A) < 1e-10 "
   ]
  },
  {
   "cell_type": "code",
   "execution_count": null,
   "id": "f756cf74",
   "metadata": {},
   "outputs": [],
   "source": [
    "# I can solve this linear system with these factors \n",
    "b = randn(3)\n",
    "\n",
    "# solve x = A\\b using our factors \n",
    "x1 = chol_factor\\b \n",
    "x2 = qr_factor\\b \n",
    "x3 = lu_factor\\b \n",
    "\n",
    "@test norm(x1 - x2) < 1e-10 \n",
    "@test norm(x1 - x3) < 1e-10 "
   ]
  },
  {
   "cell_type": "code",
   "execution_count": null,
   "id": "ad352e27",
   "metadata": {},
   "outputs": [],
   "source": [
    "# ranges \n",
    "idx = 0:2:10                   # unit range\n",
    "idx = range(0, 10, step = 2)   # same as above \n",
    "idx = range(0, 10, length = 6) # same as above "
   ]
  },
  {
   "cell_type": "markdown",
   "id": "4544daad",
   "metadata": {},
   "source": [
    "## 2. Functions and Types"
   ]
  },
  {
   "cell_type": "code",
   "execution_count": null,
   "id": "2e5edccb",
   "metadata": {},
   "outputs": [],
   "source": [
    "# for loops \n",
    "for i = 1:2\n",
    "    println(\"here is println output: \",i) # print line \n",
    "    @show i \n",
    "end"
   ]
  },
  {
   "cell_type": "code",
   "execution_count": null,
   "id": "474a1afe",
   "metadata": {},
   "outputs": [],
   "source": [
    "# basic type information:\n",
    "a = randn(2)::Vector{Float64}\n",
    "@show typeof(a) # what type is a\n",
    "@show eltype(a) # what element type is a "
   ]
  },
  {
   "cell_type": "code",
   "execution_count": null,
   "id": "bad48891",
   "metadata": {},
   "outputs": [],
   "source": [
    "b = [1, 3]\n",
    "@show typeof(b) # what type is a\n",
    "@show eltype(b) # what element type is a "
   ]
  },
  {
   "cell_type": "code",
   "execution_count": null,
   "id": "b04856d2",
   "metadata": {},
   "outputs": [],
   "source": [
    "# some other types you will see \n",
    "A = randn(2,2)::Matrix{Float64} # this is a type assertion\n",
    "B = [1 0; 0 3]::Matrix{Int64}\n",
    "a = 4.3::Float64 "
   ]
  },
  {
   "cell_type": "code",
   "execution_count": null,
   "id": "fb535b3a",
   "metadata": {},
   "outputs": [],
   "source": [
    "randn(2,2)::Matrix{Int64} # type assertion will fail because randn creates floats"
   ]
  },
  {
   "cell_type": "code",
   "execution_count": null,
   "id": "8c06b4c2",
   "metadata": {},
   "outputs": [],
   "source": [
    "# list comprehension\n",
    "x = [i for i = 1:3]"
   ]
  },
  {
   "cell_type": "code",
   "execution_count": null,
   "id": "32ac9e58",
   "metadata": {},
   "outputs": [],
   "source": [
    "# we love vectors of vectors \n",
    "X = [randn(2) for i = 1:3]"
   ]
  },
  {
   "cell_type": "code",
   "execution_count": null,
   "id": "442febaf",
   "metadata": {},
   "outputs": [],
   "source": [
    "# we will use this for trajectories all the time, we can convert a vector of vectors \n",
    "# to a matrix with the following\n",
    "X_matrix = hcat(X...) # this is the same as hcat(X[1],X[2],X[3])"
   ]
  },
  {
   "cell_type": "code",
   "execution_count": null,
   "id": "6c7deb59",
   "metadata": {},
   "outputs": [],
   "source": [
    "# we can also do vectors of matrices \n",
    "X = [randn(2,2) for i = 1:3]"
   ]
  },
  {
   "cell_type": "code",
   "execution_count": null,
   "id": "d7193f8a",
   "metadata": {},
   "outputs": [],
   "source": [
    "# functions \n",
    "function f(x, b) \n",
    "    return b*x \n",
    "end\n",
    "\n",
    "output = f(randn(3), 2.4)"
   ]
  },
  {
   "cell_type": "code",
   "execution_count": null,
   "id": "8b82513e",
   "metadata": {},
   "outputs": [],
   "source": [
    "# we can type the inputs and outputs to a function if we want to\n",
    "function f2(x::Vector, b::Float64)::Matrix\n",
    "    # this takes in the following:\n",
    "    #     x - a vector (can be a vector of anything)\n",
    "    #     b - a float \n",
    "    # and outputs a matrix (of anything)\n",
    "    return b * x * x'\n",
    "end\n",
    "\n",
    "output = f2(randn(3), 2.4)"
   ]
  },
  {
   "cell_type": "code",
   "execution_count": null,
   "id": "61582996",
   "metadata": {},
   "outputs": [],
   "source": [
    "# this is useful for 2 reasons:\n",
    "# 1. it helps us avoid bugs by specifying the types we expect \n",
    "# 2. it allows for multiple dispatch\n",
    "\n",
    "# here's what I mean by multiple dispatch\n",
    "function print_my_type(a::Float64)\n",
    "    println(\"thanks for inputting a ~float~\")\n",
    "end\n",
    "print_my_type(3.4)"
   ]
  },
  {
   "cell_type": "code",
   "execution_count": null,
   "id": "d9c9bed3",
   "metadata": {},
   "outputs": [],
   "source": [
    "# but if I give it an integer, it won't be able to find the function \n",
    "print_my_type(3)"
   ]
  },
  {
   "cell_type": "code",
   "execution_count": null,
   "id": "6f831b91",
   "metadata": {},
   "outputs": [],
   "source": [
    "# this error is saying it doesn't have a method for `print_my_type(::Int64)`\n",
    "# but the closest it found was `print_my_type(::Float64)`\n",
    "\n",
    "# so let's write a new one \n",
    "function print_my_type(a::Int64)\n",
    "    println(\"thanks for inputting an ~integer~\")\n",
    "end\n",
    "print_my_type(3)\n",
    "\n",
    "# these two functions have the same name, so the version that gets \n",
    "# called is determined by the type of the input "
   ]
  },
  {
   "cell_type": "markdown",
   "id": "4c1ec27c",
   "metadata": {},
   "source": [
    "## 2. Things to watch out for"
   ]
  },
  {
   "cell_type": "code",
   "execution_count": null,
   "id": "fe077789",
   "metadata": {},
   "outputs": [],
   "source": [
    "# global and local scope \n",
    "\n",
    "# everything so far has been in global scope, this means if I create a variable \n",
    "x = 4.6 \n",
    "\n",
    "function myf()\n",
    "    println(\"i'm printing x, even though it wasn't passed in\")\n",
    "    print(\"x: \",x)\n",
    "end\n",
    "\n",
    "myf()"
   ]
  },
  {
   "cell_type": "code",
   "execution_count": null,
   "id": "cea980ca",
   "metadata": {},
   "outputs": [],
   "source": [
    "# this is super dangerous, and as a result global variables should NEVER be used \n",
    "\n",
    "# --------UNLESS------------\n",
    "# we make it a const, which means we can't change it \n",
    "\n",
    "const x_const = 4.3\n",
    "\n",
    "# now we should feel free to use it wherever"
   ]
  },
  {
   "cell_type": "code",
   "execution_count": null,
   "id": "8292635f",
   "metadata": {},
   "outputs": [],
   "source": [
    "# to avoid \"polluting\" our workspace with global variables, we often times \n",
    "# wrap things in a let end \n",
    "\n",
    "function test_local_scope()\n",
    "    # since there are no inputs to this function, it will \n",
    "    # only know about global variables \n",
    "    \n",
    "    println(\"here is global_var: \", global_var)\n",
    "    println(\"here is local_var: \", local_var) # this will fail \n",
    "end\n",
    "\n",
    "# global variable \n",
    "const global_var = 23\n",
    "\n",
    "let \n",
    "    \n",
    "    # local variable \n",
    "    local_var = 45 \n",
    "    \n",
    "    test_local_scope()\n",
    "    \n",
    "end"
   ]
  },
  {
   "cell_type": "code",
   "execution_count": null,
   "id": "aae236f4",
   "metadata": {},
   "outputs": [],
   "source": [
    "# here is an example of global\n",
    "x = 3.4 \n",
    "function f1()\n",
    "    if @isdefined(x)\n",
    "        println(\"yeah I know about x\")\n",
    "        println(\"x: \", x)\n",
    "    end\n",
    "end\n",
    "f1()"
   ]
  },
  {
   "cell_type": "code",
   "execution_count": null,
   "id": "11497ec3",
   "metadata": {},
   "outputs": [],
   "source": [
    "# functions can modify their inputs in place\n",
    "# this is not true in MATLAB, but is true in python \n",
    "function mutating_function!(input::Vector)\n",
    "    input[2] = 140\n",
    "    return nothing \n",
    "end\n",
    "\n",
    "let \n",
    "    input = [5,9]\n",
    "    println(\"input before: \", input)\n",
    "    \n",
    "    # call our function which modifies the input \n",
    "    mutating_function!(input)\n",
    "    \n",
    "    println(\"input after: \", input)\n",
    "end"
   ]
  },
  {
   "cell_type": "code",
   "execution_count": null,
   "id": "23147b10",
   "metadata": {},
   "outputs": [],
   "source": [
    "# functions that modify the input have a ! at the end of the title \n",
    "x = [4, 1, 3, 2]\n",
    "println(\"here is x: x = \", x)\n",
    "println(\"here is the sorted version of x: \", sort(x))\n",
    "println(\"but x is unchanged: x = \", x) \n",
    "\n",
    "# now I will sort the vector in place \n",
    "sort!(x) # ! means it will modify the input \n",
    "println(\"here is the modified x (it's sorted now): x = \", x)"
   ]
  },
  {
   "cell_type": "code",
   "execution_count": null,
   "id": "ef232cf3",
   "metadata": {},
   "outputs": [],
   "source": [
    "# we can apply any function to elements of an array with a . \n",
    "@show abs(3)\n",
    "x = randn(4)\n",
    "@show x\n",
    "@show abs.(x)\n",
    "X = randn(2,2)\n",
    "@show X \n",
    "@show abs.(X)"
   ]
  },
  {
   "cell_type": "code",
   "execution_count": null,
   "id": "ee9f96d0",
   "metadata": {},
   "outputs": [],
   "source": [
    "# even a vector of vectors \n",
    "X = [randn(2) for i = 1:3]\n",
    "\n",
    "@show X\n",
    "@show norm.(X)"
   ]
  },
  {
   "cell_type": "markdown",
   "id": "0d94dd55",
   "metadata": {},
   "source": [
    "## 3. Plotting"
   ]
  },
  {
   "cell_type": "code",
   "execution_count": null,
   "id": "27a7102b",
   "metadata": {},
   "outputs": [],
   "source": [
    "# plotting \n",
    "using Plots \n",
    "\n",
    "# our first plot is just a normal one \n",
    "x = -10:.001:10 \n",
    "plot(x, sin.(x), label = \"sin(x)\", xlabel = \"x label\",\n",
    "     ylabel = \"y label\", xlim = (-5,5), ylim = (-2, 2))"
   ]
  },
  {
   "cell_type": "code",
   "execution_count": null,
   "id": "b2ee4129",
   "metadata": {},
   "outputs": [],
   "source": [
    "# now let's plot multiple \n",
    "plot(x, sin.(x), label = \"sin(x)\", xlabel = \"x label\",\n",
    "     ylabel = \"y label\", xlim = (-5,5), ylim = (-2, 2))\n",
    "# now I use plot! to modify my existing plot\n",
    "plot!(x, cos.(x), label = \"cos(x)\")\n",
    "scatter!(randn(100), randn(100), label = \"random scatter points\")"
   ]
  },
  {
   "cell_type": "code",
   "execution_count": null,
   "id": "108b9475",
   "metadata": {},
   "outputs": [],
   "source": [
    "# now let's plot a trajectory that's stored as vector of vectors \n",
    "time_vec = 0:.01:10 \n",
    "\n",
    "# create a trajectory as a vector of vectors \n",
    "X = [[exp(-t), exp(-.5*t), exp(-.25*t)] for t in time_vec]\n",
    "\n",
    "# convert this vector of vectors to a matrix \n",
    "Xmatrix = hcat(X...)\n",
    "\n",
    "# plot this (DONT FORGET THE TRANSPOSE)\n",
    "plot(time_vec, Xmatrix', label = [\"exp(-t)\" \"exp(-.5t)\" \"exp(-.25t)\"],\n",
    "     ylabel = \"ylabel\", xlabel = \"time (s)\")"
   ]
  },
  {
   "cell_type": "code",
   "execution_count": null,
   "id": "26c99146",
   "metadata": {},
   "outputs": [],
   "source": [
    "import ForwardDiff as FD\n",
    "\n",
    "function first_order_taylor(f::Function, x̄::Float64, x::Float64)::Float64\n",
    "    # first order taylor series of f, \n",
    "    return f(x̄) + FD.derivative(f,x̄)*(x - x̄)\n",
    "end\n",
    "\n",
    "let \n",
    "    \n",
    "    x = -6:.01:6\n",
    "    y = sin.(x)\n",
    "    \n",
    "    # let's linearize about a random point \n",
    "    x̄ = randn()\n",
    "\n",
    "    y_taylor = [first_order_taylor(sin, x̄, x[i]) for i = 1:length(x)]\n",
    "    # y_taylor = [first_order_taylor(sin, x̄, xi) for xi in x] # you can also do this \n",
    "    \n",
    "    scatter([x̄], [sin(x̄)], label = \"linearization point\")\n",
    "    plot!(x, y_taylor, label = \"1st order taylor series\")\n",
    "    display(plot!(x,y, label = \"sin(x)\", xlabel = \"x\", ylabel = \"y\"))\n",
    "    \n",
    "end"
   ]
  },
  {
   "cell_type": "code",
   "execution_count": null,
   "id": "e44e94ac",
   "metadata": {},
   "outputs": [],
   "source": []
  }
 ],
 "metadata": {
  "kernelspec": {
   "display_name": "Julia 1.6.7",
   "language": "julia",
   "name": "julia-1.6"
  },
  "language_info": {
   "file_extension": ".jl",
   "mimetype": "application/julia",
   "name": "julia",
   "version": "1.6.7"
  }
 },
 "nbformat": 4,
 "nbformat_minor": 5
}
